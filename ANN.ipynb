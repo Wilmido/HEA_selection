{
 "cells": [
  {
   "cell_type": "code",
   "execution_count": 1,
   "metadata": {},
   "outputs": [],
   "source": [
    "import torch \n",
    "import torch.nn as nn\n",
    "import torch.utils.data as Data\n",
    "import numpy as np\n",
    "import pandas as pd\n",
    "import matplotlib.pyplot as plt\n",
    "from matplotlib import cm"
   ]
  },
  {
   "cell_type": "code",
   "execution_count": 2,
   "metadata": {},
   "outputs": [],
   "source": [
    "num_of_feature = 13\n",
    "featrues_name13= ['a','delta','Tm','D_Tm','Hmix','σHmix','Sid','Elec_nega','D_elec_nega','VEC','d_VEC','BulkModulus','D_Bulk']\n",
    "BS = 20\n",
    "LR = 0.001\n",
    "EPOCHS = 30\n",
    "HIDDEN = 55\n",
    "dataset ='AM'\n",
    "device = torch.device('cuda' if torch.cuda.is_available() else 'cpu')"
   ]
  },
  {
   "cell_type": "code",
   "execution_count": 3,
   "metadata": {},
   "outputs": [],
   "source": [
    "x_train = np.load('data/x_train.npy') #420,13\n",
    "x_val = np.load('data/x_val.npy')     #91\n",
    "x_test = np.load('data/x_test.npy')   #90\n",
    "y_train = np.load('data/y_train_' + dataset + '.npy')\n",
    "y_val = np.load('data/y_val_' + dataset + '.npy')\n",
    "y_test = np.load('data/y_test_' + dataset + '.npy')\n",
    "data_pred = np.load('data/for_pred.npy')"
   ]
  },
  {
   "cell_type": "code",
   "execution_count": 4,
   "metadata": {},
   "outputs": [],
   "source": [
    "def get_model(hidden):\n",
    "    return nn.Sequential(\n",
    "                        nn.Linear(num_of_feature, hidden),\n",
    "                        nn.Sigmoid(),\n",
    "                        nn.Linear(hidden,1),\n",
    "                        nn.Sigmoid(),)\n",
    "net = get_model(HIDDEN).to(device)"
   ]
  },
  {
   "cell_type": "code",
   "execution_count": 5,
   "metadata": {},
   "outputs": [],
   "source": [
    "optimizer = torch.optim.Adam(net.parameters(),lr=LR)\n",
    "criterion = nn.BCELoss()"
   ]
  },
  {
   "cell_type": "code",
   "execution_count": 6,
   "metadata": {},
   "outputs": [],
   "source": [
    "def transform_data(x, y=None):\n",
    "    inputs = torch.tensor(x).to(device)\n",
    "    if y is None:    \n",
    "        dataset = Data.TensorDataset(inputs)\n",
    "    else:\n",
    "        labels = torch.tensor(y).to(device) \n",
    "        dataset = Data.TensorDataset(inputs, labels)\n",
    "    loader = Data.DataLoader(dataset, batch_size=BS, shuffle=True)\n",
    "    return loader\n",
    "\n",
    "train_loader = transform_data(x_train,y_train)\n",
    "val_loader = transform_data(x_val, y_val)\n",
    "test_loader = transform_data(x_test, y_test)\n",
    "pred_loader = transform_data(data_pred)"
   ]
  },
  {
   "cell_type": "code",
   "execution_count": 7,
   "metadata": {},
   "outputs": [],
   "source": [
    "def fit(model, xiter, criterion, optimizer, is_train=False):\n",
    "    acc, total_loss, n = 0, 0, 0\n",
    "    for xb, yb in xiter:\n",
    "        yb = yb.view(-1,1)    # 这里是为了让标签变成一个二维张量，进行的升维\n",
    "        inputs = xb.to(device).type(torch.float32)\n",
    "        targets = yb.to(device).type(torch.float32)\n",
    "        outputs = model(inputs)\n",
    "        loss = criterion(outputs, targets)\n",
    "        if is_train:\n",
    "            optimizer.zero_grad()\n",
    "            loss.backward()\n",
    "            optimizer.step()\n",
    "        pred = outputs.round()\n",
    "        acc += torch.sum((pred == targets))\n",
    "        total_loss += loss.item()\n",
    "        n += len(yb)\n",
    "    return acc.float()/n, total_loss/n"
   ]
  },
  {
   "cell_type": "code",
   "execution_count": 8,
   "metadata": {},
   "outputs": [],
   "source": [
    "losses, accs = [], []\n",
    "val_losses, val_accs = [], []\n",
    "def training(epochs, model, train_iter, valid_iter, criterion, optimizer, flag=True):\n",
    "    for epoch in range(epochs):\n",
    "        epoch_loss, epoch_acc = 0, 0\n",
    "        val_epoch_loss, val_epoch_acc = 0, 0\n",
    "        model.train()\n",
    "        epoch_acc, epoch_loss = fit(model, train_iter, criterion, optimizer, True)\n",
    "        losses.append(epoch_loss)\n",
    "        accs.append(epoch_acc)\n",
    "        if flag:\n",
    "            print(\"[{}/{}] \\ntraining loss:\\t {:.4f}   training acc:\\t{:.2f}%\".format(epoch+1, epochs, epoch_loss, epoch_acc*100))\n",
    "\n",
    "        if valid_iter:\n",
    "            with torch.no_grad():\n",
    "                model.eval()\n",
    "                val_epoch_acc, val_epoch_loss = fit(model, valid_iter, criterion, optimizer)\n",
    "            val_losses.append(val_epoch_loss)\n",
    "            val_accs.append(val_epoch_acc)\n",
    "            if flag:\n",
    "                print(\"validation loss: {:.4f}   validation acc: {:.2f}%\".format(val_epoch_loss,val_epoch_acc*100))"
   ]
  },
  {
   "cell_type": "code",
   "execution_count": 9,
   "metadata": {
    "scrolled": true
   },
   "outputs": [
    {
     "name": "stdout",
     "output_type": "stream",
     "text": [
      "[1/30] \n",
      "training loss:\t 0.0380   training acc:\t33.33%\n",
      "validation loss: 0.0374   validation acc: 63.74%\n",
      "[2/30] \n",
      "training loss:\t 0.0315   training acc:\t71.19%\n",
      "validation loss: 0.0341   validation acc: 67.03%\n",
      "[3/30] \n",
      "training loss:\t 0.0286   training acc:\t72.38%\n",
      "validation loss: 0.0322   validation acc: 67.03%\n",
      "[4/30] \n",
      "training loss:\t 0.0272   training acc:\t72.38%\n",
      "validation loss: 0.0325   validation acc: 67.03%\n",
      "[5/30] \n",
      "training loss:\t 0.0263   training acc:\t72.38%\n",
      "validation loss: 0.0302   validation acc: 67.03%\n",
      "[6/30] \n",
      "training loss:\t 0.0253   training acc:\t72.38%\n",
      "validation loss: 0.0293   validation acc: 67.03%\n",
      "[7/30] \n",
      "training loss:\t 0.0244   training acc:\t72.38%\n",
      "validation loss: 0.0283   validation acc: 68.13%\n",
      "[8/30] \n",
      "training loss:\t 0.0235   training acc:\t76.19%\n",
      "validation loss: 0.0270   validation acc: 76.92%\n",
      "[9/30] \n",
      "training loss:\t 0.0225   training acc:\t77.62%\n",
      "validation loss: 0.0269   validation acc: 76.92%\n",
      "[10/30] \n",
      "training loss:\t 0.0216   training acc:\t78.81%\n",
      "validation loss: 0.0247   validation acc: 80.22%\n",
      "[11/30] \n",
      "training loss:\t 0.0208   training acc:\t79.52%\n",
      "validation loss: 0.0241   validation acc: 81.32%\n",
      "[12/30] \n",
      "training loss:\t 0.0200   training acc:\t80.71%\n",
      "validation loss: 0.0232   validation acc: 81.32%\n",
      "[13/30] \n",
      "training loss:\t 0.0193   training acc:\t82.14%\n",
      "validation loss: 0.0231   validation acc: 83.52%\n",
      "[14/30] \n",
      "training loss:\t 0.0186   training acc:\t81.43%\n",
      "validation loss: 0.0219   validation acc: 83.52%\n",
      "[15/30] \n",
      "training loss:\t 0.0181   training acc:\t83.33%\n",
      "validation loss: 0.0212   validation acc: 84.62%\n",
      "[16/30] \n",
      "training loss:\t 0.0176   training acc:\t83.81%\n",
      "validation loss: 0.0200   validation acc: 84.62%\n",
      "[17/30] \n",
      "training loss:\t 0.0172   training acc:\t84.05%\n",
      "validation loss: 0.0202   validation acc: 85.71%\n",
      "[18/30] \n",
      "training loss:\t 0.0168   training acc:\t85.00%\n",
      "validation loss: 0.0190   validation acc: 85.71%\n",
      "[19/30] \n",
      "training loss:\t 0.0165   training acc:\t85.71%\n",
      "validation loss: 0.0181   validation acc: 84.62%\n",
      "[20/30] \n",
      "training loss:\t 0.0162   training acc:\t85.71%\n",
      "validation loss: 0.0183   validation acc: 84.62%\n",
      "[21/30] \n",
      "training loss:\t 0.0159   training acc:\t85.95%\n",
      "validation loss: 0.0179   validation acc: 84.62%\n",
      "[22/30] \n",
      "training loss:\t 0.0157   training acc:\t86.43%\n",
      "validation loss: 0.0178   validation acc: 84.62%\n",
      "[23/30] \n",
      "training loss:\t 0.0155   training acc:\t86.67%\n",
      "validation loss: 0.0180   validation acc: 84.62%\n",
      "[24/30] \n",
      "training loss:\t 0.0153   training acc:\t86.90%\n",
      "validation loss: 0.0193   validation acc: 85.71%\n",
      "[25/30] \n",
      "training loss:\t 0.0152   training acc:\t86.90%\n",
      "validation loss: 0.0179   validation acc: 85.71%\n",
      "[26/30] \n",
      "training loss:\t 0.0150   training acc:\t87.62%\n",
      "validation loss: 0.0173   validation acc: 86.81%\n",
      "[27/30] \n",
      "training loss:\t 0.0149   training acc:\t88.33%\n",
      "validation loss: 0.0173   validation acc: 87.91%\n",
      "[28/30] \n",
      "training loss:\t 0.0147   training acc:\t88.33%\n",
      "validation loss: 0.0164   validation acc: 87.91%\n",
      "[29/30] \n",
      "training loss:\t 0.0146   training acc:\t88.33%\n",
      "validation loss: 0.0163   validation acc: 89.01%\n",
      "[30/30] \n",
      "training loss:\t 0.0145   training acc:\t88.33%\n",
      "validation loss: 0.0162   validation acc: 89.01%\n",
      "Wall time: 9.98 s\n"
     ]
    }
   ],
   "source": [
    "%%time\n",
    "training(EPOCHS, net, train_loader, val_loader, criterion, optimizer)"
   ]
  },
  {
   "cell_type": "code",
   "execution_count": 10,
   "metadata": {
    "scrolled": false
   },
   "outputs": [],
   "source": [
    "# %%time\n",
    "# for hid in range(10,80,5):\n",
    "#     net = get_model(hid).to(device)\n",
    "#     optimizer = torch.optim.Adam(net.parameters(),lr=LR)\n",
    "#     training(EPOCHS, net, train_loader, val_loader, criterion, optimizer, False)\n",
    "#     acc = 0\n",
    "#     acc, _ = fit(net, test_loader, criterion, optimizer)\n",
    "#     print(\"hidden: {}, the Model test score: {}\".format(hid, acc.item()))"
   ]
  },
  {
   "cell_type": "code",
   "execution_count": 11,
   "metadata": {},
   "outputs": [
    {
     "data": {
      "text/plain": [
       "<matplotlib.legend.Legend at 0x188abaccfd0>"
      ]
     },
     "execution_count": 11,
     "metadata": {},
     "output_type": "execute_result"
    },
    {
     "data": {
      "image/png": "[encoded data removed]",
      "text/plain": [
       "<Figure size 432x288 with 1 Axes>"
      ]
     },
     "metadata": {
      "needs_background": "light"
     },
     "output_type": "display_data"
    }
   ],
   "source": [
    "plt.plot(losses,label='training loss')\n",
    "plt.plot(val_losses,label=\"validation loss\")\n",
    "plt.legend() "
   ]
  },
  {
   "cell_type": "code",
   "execution_count": 12,
   "metadata": {
    "scrolled": true
   },
   "outputs": [
    {
     "data": {
      "text/plain": [
       "<matplotlib.legend.Legend at 0x188abb0b070>"
      ]
     },
     "execution_count": 12,
     "metadata": {},
     "output_type": "execute_result"
    },
    {
     "data": {
      "image/png": "[encoded data removed]",
      "text/plain": [
       "<Figure size 432x288 with 1 Axes>"
      ]
     },
     "metadata": {
      "needs_background": "light"
     },
     "output_type": "display_data"
    }
   ],
   "source": [
    "plt.plot(accs,label=\"training accuracy\")\n",
    "plt.plot(val_accs,label=\"validation accuracy\")\n",
    "plt.legend()"
   ]
  },
  {
   "cell_type": "code",
   "execution_count": 13,
   "metadata": {},
   "outputs": [
    {
     "name": "stdout",
     "output_type": "stream",
     "text": [
      "the Model test score:  0.8888888955116272\n"
     ]
    }
   ],
   "source": [
    "# 使用test最后来评估模型\n",
    "acc, _ = fit(net, test_loader, criterion, optimizer)\n",
    "print(\"the Model test score: \",acc.item())"
   ]
  },
  {
   "cell_type": "code",
   "execution_count": 14,
   "metadata": {},
   "outputs": [],
   "source": [
    "parameters = list(net.parameters())"
   ]
  },
  {
   "cell_type": "code",
   "execution_count": 15,
   "metadata": {},
   "outputs": [],
   "source": [
    "Sensitivity = parameters[2].mm(parameters[0]).cpu().data.numpy()"
   ]
  },
  {
   "cell_type": "code",
   "execution_count": 16,
   "metadata": {},
   "outputs": [],
   "source": [
    "from sklearn.preprocessing import MaxAbsScaler\n",
    "scaler = MaxAbsScaler()\n",
    "normal_s = scaler.fit_transform(Sensitivity.T)"
   ]
  },
  {
   "cell_type": "code",
   "execution_count": 17,
   "metadata": {},
   "outputs": [],
   "source": [
    "sensitivity = np.squeeze(normal_s).tolist()"
   ]
  },
  {
   "cell_type": "code",
   "execution_count": 18,
   "metadata": {},
   "outputs": [
    {
     "data": {
      "image/png": "[encoded data removed]",
      "text/plain": [
       "<Figure size 510x340 with 2 Axes>"
      ]
     },
     "metadata": {
      "needs_background": "light"
     },
     "output_type": "display_data"
    }
   ],
   "source": [
    "plt.rcParams['savefig.dpi'] = 100 #图片像素\n",
    "plt.rcParams['figure.dpi'] = 85 #分辨率\n",
    "norm = plt.Normalize(-1,1)\n",
    "norm_values = norm(sensitivity)\n",
    "map_vir = cm.get_cmap(name='jet')\n",
    "colors = map_vir(norm_values)\n",
    "sm = cm.ScalarMappable(cmap=map_vir,norm=norm)  # norm设置最大最小值\n",
    "plt.figure()\n",
    "plt.colorbar(sm)\n",
    "plt.barh(featrues_name13, sensitivity, color=colors)\n",
    "plt.show()"
   ]
  },
  {
   "cell_type": "markdown",
   "metadata": {},
   "source": [
    "1. 出现了一个问题就是None如何让程序意识到<br>\n",
    "2. 第二个就是关于RuntimeError: CUDA error: device-side assert triggered<br>\n",
    "<font color=red><b>这是因为我使用了crossentropyloss,但是输出只有一个维度,即只有一个神经元,后来换成两个就没有问题</font></b><br>\n",
    "3. <font size=5>炼丹时间到</font>\n",
    "4. 很奇怪敏感矩阵与文献不一样,不过符号是一样的，问题就不大了。<br>\n",
    "P.S. 今天（5.12）下载了另一个文件。发现它的Sensitivity Matrix，10次运行的结果都不一样，它是取了<b>平均值</b>！！那么我这个结果无所谓了，重点还是让符号和文献对应。\n",
    "    - 其中SS第4个由于数字比较小一般可以忽略。但是重点就是最后一个符号完全相反！<br>\n",
    "    - IM的第5个比较小也可以忽略。还有9、12符号相反<br>\n",
    "    - AM的第7个比较小可以忽略，第9个符号相反\n",
    "5. 由于文献最后是1个神经元输出,所以依照它,就不能使用cross entropy loss交叉熵\n",
    "6. <font color=blue><b>torch中一个非常重要的函数round进行四舍五入，这我之前是没有想到的。由于使用BCELoss就必须要让sigmoid输出就变为标签所有就需要四舍五入</font></b>但是四舍五入毕竟是一般情况，正确做法应该是设置一个阈值，自动学习获得，当然通常我们也默认阈值为0.5。\n",
    "7. 绘制最后的这个图真的是吐血，因为plt.normalize这个函数传入的参数就vmax、vmin会将大于这个值的数变成这个值？？？？太蠢了\n",
    "8. markdown有序列表加`.`，然后如果要嵌套列表就需要加入四个空格 `tab`"
   ]
  },
  {
   "cell_type": "code",
   "execution_count": null,
   "metadata": {},
   "outputs": [],
   "source": []
  }
 ],
 "metadata": {
  "kernelspec": {
   "display_name": "Python 3",
   "language": "python",
   "name": "python3"
  },
  "language_info": {
   "codemirror_mode": {
    "name": "ipython",
    "version": 3
   },
   "file_extension": ".py",
   "mimetype": "text/x-python",
   "name": "python",
   "nbconvert_exporter": "python",
   "pygments_lexer": "ipython3",
   "version": "3.8.3"
  },
  "toc": {
   "base_numbering": 1,
   "nav_menu": {},
   "number_sections": true,
   "sideBar": true,
   "skip_h1_title": false,
   "title_cell": "Table of Contents",
   "title_sidebar": "Contents",
   "toc_cell": false,
   "toc_position": {},
   "toc_section_display": true,
   "toc_window_display": false
  }
 },
 "nbformat": 4,
 "nbformat_minor": 4
}