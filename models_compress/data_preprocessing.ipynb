{
 "cells": [
  {
   "cell_type": "code",
   "execution_count": 1,
   "metadata": {},
   "outputs": [],
   "source": [
    "import numpy as np\n",
    "data_file = 'AM_IM_SS_New_AM9.csv'\n",
    "num_of_feature = 9"
   ]
  },
  {
   "cell_type": "code",
   "execution_count": 2,
   "metadata": {},
   "outputs": [],
   "source": [
    "binary = np.zeros([163, num_of_feature+3])\n",
    "ternary = np.zeros([120, num_of_feature+3])\n",
    "quaternary = np.zeros([89, num_of_feature+3])\n",
    "highorder = np.zeros([229, num_of_feature+3])\n",
    "c2 = 0\n",
    "c3 = 0\n",
    "c4 = 0\n",
    "c5 = 0\n",
    "file = open(data_file, mode='r')\n",
    "lines = file.readlines()\n",
    "for i, l in enumerate(lines):\n",
    "    data = l.split(',')\n",
    "    if int(data[1]) == 2:\n",
    "        for j, d in enumerate(data):\n",
    "            if j >= 4 and j <= num_of_feature+3:\n",
    "                binary[c2][j-4] = float(d)\n",
    "            elif j >= num_of_feature+6 and j<= num_of_feature+8:\n",
    "                binary[c2][j-6] = int(d)\n",
    "        c2+=1\n",
    "    elif int(data[1]) == 3:\n",
    "        for j, d in enumerate(data):\n",
    "            if j >= 4 and j <= num_of_feature+3:\n",
    "                ternary[c3][j-4] = float(d)\n",
    "            elif j >= num_of_feature+6 and j<= num_of_feature+8:\n",
    "                ternary[c3][j-6] = int(d)\n",
    "        c3+=1\n",
    "    elif int(data[1]) == 4:\n",
    "        for j, d in enumerate(data):\n",
    "            if j >= 4 and j <= num_of_feature+3:\n",
    "                quaternary[c4][j-4] = float(d)\n",
    "            elif j >= num_of_feature+6 and j<= num_of_feature+8:\n",
    "                quaternary[c4][j-6] = int(d)\n",
    "        c4+=1\n",
    "    else:\n",
    "        for j, d in enumerate(data):\n",
    "            if j >= 4 and j <= num_of_feature+3:\n",
    "                highorder[c5][j-4] = float(d)\n",
    "            elif j >= num_of_feature+6 and j<= num_of_feature+8:\n",
    "                highorder[c5][j-6] = int(d)\n",
    "        c5+=1"
   ]
  },
  {
   "cell_type": "code",
   "execution_count": 3,
   "metadata": {},
   "outputs": [],
   "source": [
    "for n in range(0, 10):\n",
    "    np.random.shuffle(binary)\n",
    "    np.random.shuffle(ternary)\n",
    "    np.random.shuffle(quaternary)\n",
    "    np.random.shuffle(highorder)"
   ]
  },
  {
   "cell_type": "code",
   "execution_count": 4,
   "metadata": {},
   "outputs": [],
   "source": [
    "train_data = np.concatenate((binary[:114], ternary[:84], quaternary[:62], highorder[:160]))\n",
    "val_data = np.concatenate((binary[114:139], ternary[84:102], quaternary[62:76], highorder[160:194]))\n",
    "test_data = np.concatenate((binary[139:], ternary[102:], quaternary[76:], highorder[194:]))\n",
    "x_train = train_data[:, :num_of_feature]\n",
    "y_train_AM = np.squeeze(train_data[:, num_of_feature: num_of_feature+1])\n",
    "y_train_IM = np.squeeze(train_data[:, num_of_feature+1: num_of_feature+2])\n",
    "y_train_SS = np.squeeze(train_data[:, num_of_feature+2: num_of_feature+3])\n",
    "x_val = val_data[:, :num_of_feature]\n",
    "y_val_AM = np.squeeze(val_data[:, num_of_feature: num_of_feature+1])\n",
    "y_val_IM = np.squeeze(val_data[:, num_of_feature+1: num_of_feature+2])\n",
    "y_val_SS = np.squeeze(val_data[:, num_of_feature+2: num_of_feature+3])\n",
    "x_test = test_data[:, :num_of_feature]\n",
    "y_test_AM = np.squeeze(test_data[:, num_of_feature: num_of_feature+1])\n",
    "y_test_IM = np.squeeze(test_data[:, num_of_feature+1: num_of_feature+2])\n",
    "y_test_SS = np.squeeze(test_data[:, num_of_feature+2: num_of_feature+3])"
   ]
  },
  {
   "cell_type": "code",
   "execution_count": null,
   "metadata": {},
   "outputs": [],
   "source": [
    "data_pred = np.zeros([8, num_of_feature])\n",
    "file = open(data_pred, mode='r')\n",
    "lines = file.readlines()\n",
    "for i, l in enumerate(lines):\n",
    "    data = l.split(',')\n",
    "    for j, d in enumerate(data):\n",
    "        if j >= 4 and j <= num_of_feature+3:\n",
    "            data_pred[i][j-4] = float(d)"
   ]
  },
  {
   "cell_type": "code",
   "execution_count": 5,
   "metadata": {},
   "outputs": [],
   "source": [
    "mean = np.mean(x_train, axis=0)\n",
    "std = np.std(x_train, axis=0)\n",
    "x_train = (x_train - mean) / std\n",
    "x_val = (x_val - mean) / std\n",
    "x_test = (x_test - mean) / std\n",
    "data_pred = (data_pred - mean) / std\n",
    "train_stat = [mean, std]"
   ]
  },
  {
   "cell_type": "code",
   "execution_count": 7,
   "metadata": {},
   "outputs": [],
   "source": [
    "np.save('data/x_train_' + str(num_of_feature) +'_revise', x_train)\n",
    "np.save('data/y_train_AM_' + str(num_of_feature) +'_revise', y_train_AM)\n",
    "np.save('data/y_train_IM_' + str(num_of_feature) +'_revise', y_train_IM)\n",
    "np.save('data/y_train_SS_' + str(num_of_feature) +'_revise', y_train_SS)\n",
    "np.save('data/x_val_' + str(num_of_feature) +'_revise', x_val)\n",
    "np.save('data/y_val_AM_' + str(num_of_feature) +'_revise', y_val_AM)\n",
    "np.save('data/y_val_IM_' + str(num_of_feature) +'_revise', y_val_IM)\n",
    "np.save('data/y_val_SS_' + str(num_of_feature) +'_revise', y_val_SS)\n",
    "np.save('data/x_test_' + str(num_of_feature) +'_revise', x_test)\n",
    "np.save('data/y_test_AM_' + str(num_of_feature) +'_revise', y_test_AM)\n",
    "np.save('data/y_test_IM_' + str(num_of_feature) +'_revise', y_test_IM)\n",
    "np.save('data/y_test_SS_' + str(num_of_feature) +'_revise', y_test_SS)\n",
    "np.save('data/train_stat_' + str(num_of_feature) +'_revise', train_stat)\n",
    "np.save('data/for_pred' + str(num_of_feature) +'_revise', data_pred)"
   ]
  }
 ],
 "metadata": {
  "kernelspec": {
   "display_name": "Python 3",
   "language": "python",
   "name": "python3"
  },
  "language_info": {
   "codemirror_mode": {
    "name": "ipython",
    "version": 3
   },
   "file_extension": ".py",
   "mimetype": "text/x-python",
   "name": "python",
   "nbconvert_exporter": "python",
   "pygments_lexer": "ipython3",
   "version": "3.6.8"
  }
 },
 "nbformat": 4,
 "nbformat_minor": 2
}
