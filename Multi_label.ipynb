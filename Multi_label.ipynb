{
 "cells": [
  {
   "cell_type": "code",
   "execution_count": 1,
   "metadata": {},
   "outputs": [],
   "source": [
    "import torch \n",
    "import torch.nn as nn\n",
    "import torch.utils.data as Data\n",
    "import numpy as np\n",
    "import pandas as pd\n",
    "import matplotlib.pyplot as plt\n",
    "from matplotlib import cm"
   ]
  },
  {
   "cell_type": "code",
   "execution_count": 2,
   "metadata": {},
   "outputs": [],
   "source": [
    "num_of_feature = 13\n",
    "featrues_name13= ['a','delta','Tm','D_Tm','Hmix','σHmix','Sid','Elec_nega','D_elec_nega','VEC','d_VEC','BulkModulus','D_Bulk']\n",
    "# BS = 20\n",
    "LR = 0.0001\n",
    "EPOCHS = 50\n",
    "HIDDEN = 34\n",
    "THRESHOLD = 0.5\n",
    "device = torch.device('cuda' if torch.cuda.is_available() else 'cpu')"
   ]
  },
  {
   "cell_type": "markdown",
   "metadata": {},
   "source": [
    "# 数据处理\n",
    "## 加载数据"
   ]
  },
  {
   "cell_type": "code",
   "execution_count": 3,
   "metadata": {},
   "outputs": [],
   "source": [
    "data_file = 'AM_IM_SS_multiphase.csv'\n",
    "num_of_feature = 13\n",
    "binary = np.zeros([163, num_of_feature+3])\n",
    "ternary = np.zeros([120, num_of_feature+3])\n",
    "quaternary = np.zeros([89, num_of_feature+3])\n",
    "highorder = np.zeros([229, num_of_feature+3])\n",
    "c2 = 0\n",
    "c3 = 0\n",
    "c4 = 0\n",
    "c5 = 0"
   ]
  },
  {
   "cell_type": "code",
   "execution_count": 4,
   "metadata": {},
   "outputs": [],
   "source": [
    "def collect_data(data,array):\n",
    "    for j,d in enumerate(data):\n",
    "        if 4 <= j <= num_of_feature+3:\n",
    "            array[j-4] = float(d)\n",
    "        elif num_of_feature+6 <= j <= num_of_feature+8:\n",
    "            array[j-6] = int(d)"
   ]
  },
  {
   "cell_type": "markdown",
   "metadata": {},
   "source": [
    "## 数据分类收集"
   ]
  },
  {
   "cell_type": "code",
   "execution_count": 5,
   "metadata": {},
   "outputs": [],
   "source": [
    "file = open(data_file, mode='r')\n",
    "lines = file.readlines()\n",
    "for i, l in enumerate(lines):\n",
    "    data = l.split(',')\n",
    "    if int(data[1]) == 2:\n",
    "        collect_data(data,binary[c2,:])\n",
    "        c2 += 1\n",
    "    elif int(data[1]) == 3:\n",
    "        collect_data(data,ternary[c3,:])\n",
    "        c3 += 1\n",
    "    elif int(data[1]) == 4:\n",
    "        collect_data(data,quaternary[c4,:])\n",
    "        c4 += 1\n",
    "    else:\n",
    "        collect_data(data,highorder[c5,:])\n",
    "        c5 += 1"
   ]
  },
  {
   "cell_type": "code",
   "execution_count": 6,
   "metadata": {},
   "outputs": [],
   "source": [
    "for n in range(0, 10):\n",
    "    np.random.shuffle(binary)\n",
    "    np.random.shuffle(ternary)\n",
    "    np.random.shuffle(quaternary)\n",
    "    np.random.shuffle(highorder)"
   ]
  },
  {
   "cell_type": "markdown",
   "metadata": {},
   "source": [
    "## 按比例划分数据集"
   ]
  },
  {
   "cell_type": "code",
   "execution_count": 7,
   "metadata": {},
   "outputs": [],
   "source": [
    "train_data = np.concatenate((binary[:114], ternary[:84], quaternary[:62], highorder[:160]))\n",
    "val_data = np.concatenate((binary[114:139], ternary[84:102], quaternary[62:76], highorder[160:194]))\n",
    "test_data = np.concatenate((binary[139:], ternary[102:], quaternary[76:], highorder[194:]))\n",
    "x_train = train_data[:, :num_of_feature]\n",
    "x_val = val_data[:, :num_of_feature]\n",
    "x_test = test_data[:, :num_of_feature]"
   ]
  },
  {
   "cell_type": "code",
   "execution_count": 8,
   "metadata": {},
   "outputs": [
    {
     "data": {
      "text/plain": [
       "((420, 13), (91, 13), (90, 13))"
      ]
     },
     "execution_count": 8,
     "metadata": {},
     "output_type": "execute_result"
    }
   ],
   "source": [
    "x_train.shape, x_val.shape, x_test.shape"
   ]
  },
  {
   "cell_type": "code",
   "execution_count": 9,
   "metadata": {},
   "outputs": [],
   "source": [
    "y_train = np.squeeze(train_data[:,-3:])\n",
    "y_val = np.squeeze(val_data[:,-3:])\n",
    "y_test = np.squeeze(test_data[:,-3:])"
   ]
  },
  {
   "cell_type": "code",
   "execution_count": 10,
   "metadata": {},
   "outputs": [],
   "source": [
    "data_pred = pd.read_csv('for_pred.csv')\n",
    "data_pred = data_pred.iloc[:,4:]\n",
    "data_pred = data_pred.values"
   ]
  },
  {
   "cell_type": "markdown",
   "metadata": {},
   "source": [
    "## 归一化"
   ]
  },
  {
   "cell_type": "code",
   "execution_count": 11,
   "metadata": {},
   "outputs": [],
   "source": [
    "from sklearn.preprocessing import StandardScaler\n",
    "scaler = StandardScaler()\n",
    "scaler.fit(x_train)\n",
    "x_trian = scaler.transform(x_train)\n",
    "x_val = scaler.transform(x_val)\n",
    "x_test = scaler.transform(x_test)\n",
    "data_pred = scaler.transform(data_pred)"
   ]
  },
  {
   "cell_type": "markdown",
   "metadata": {},
   "source": [
    "## 保存数据集"
   ]
  },
  {
   "cell_type": "code",
   "execution_count": 12,
   "metadata": {},
   "outputs": [],
   "source": [
    "# np.save('data/x_train_' + str(num_of_feature) +'_Multi_label', x_train)\n",
    "# np.save('data/y_train_' + str(num_of_feature) +'_Multi_label', y_train)\n",
    "# np.save('data/x_val_' + str(num_of_feature) +'_Multi_label', x_val)\n",
    "# np.save('data/y_val_' + str(num_of_feature) +'_Multi_label', y_val)\n",
    "# np.save('data/x_test_' + str(num_of_feature) +'_Multi_label', x_test)\n",
    "# np.save('data/y_test_' + str(num_of_feature) +'_Multi_label', y_test)"
   ]
  },
  {
   "cell_type": "markdown",
   "metadata": {},
   "source": [
    "## 转化为tensor"
   ]
  },
  {
   "cell_type": "code",
   "execution_count": 13,
   "metadata": {},
   "outputs": [],
   "source": [
    "def transform_data(x, y=None):\n",
    "    inputs = torch.tensor(x).to(device)\n",
    "    if y is None:      \n",
    "        dataset = Data.TensorDataset(inputs)\n",
    "    else:\n",
    "        labels = torch.tensor(y).to(device) \n",
    "        dataset = Data.TensorDataset(inputs, labels)\n",
    "    loader = Data.DataLoader(dataset, shuffle=True)\n",
    "    return loader\n",
    "\n",
    "train_loader = transform_data(x_train, y_train)\n",
    "val_loader = transform_data(x_val, y_val)\n",
    "test_loader = transform_data(x_test, y_test)"
   ]
  },
  {
   "cell_type": "markdown",
   "metadata": {},
   "source": [
    "# 构建模型"
   ]
  },
  {
   "cell_type": "markdown",
   "metadata": {},
   "source": [
    "## ANN"
   ]
  },
  {
   "cell_type": "code",
   "execution_count": 14,
   "metadata": {},
   "outputs": [],
   "source": [
    "def get_ann(hidden):\n",
    "    return  nn.Sequential(\n",
    "                    nn.Linear(num_of_feature, hidden),\n",
    "                    nn.Sigmoid(),\n",
    "                    nn.Linear(hidden,3),\n",
    "                    nn.Sigmoid(),)\n",
    "    return nn.Sequential(nn.Linear)\n",
    "ann_model = get_ann(HIDDEN).to(device)"
   ]
  },
  {
   "cell_type": "markdown",
   "metadata": {},
   "source": [
    "## 1D CNN"
   ]
  },
  {
   "cell_type": "code",
   "execution_count": 15,
   "metadata": {},
   "outputs": [],
   "source": [
    "class Flatten(nn.Module):\n",
    "    def forward(self, input):\n",
    "        return input.view(input.size(0), -1)"
   ]
  },
  {
   "cell_type": "code",
   "execution_count": 16,
   "metadata": {},
   "outputs": [],
   "source": [
    "class cnn(nn.Module):\n",
    "    def __init__(self):\n",
    "        super(cnn,self).__init__()\n",
    "        self.conv = nn.Sequential(\n",
    "                        nn.Conv1d(1, 4, 3, 1),\n",
    "                        nn.LeakyReLU(),\n",
    "                        nn.Conv1d(4, 4, 3,  1),\n",
    "                        nn.LeakyReLU(),\n",
    "                        nn.Dropout(),)\n",
    "        self.flatten = Flatten()\n",
    "        self.fc = nn.Sequential(\n",
    "                        nn.Linear(4*(num_of_feature-4), 3),)\n",
    "#                         nn.Linear(20, 3),)\n",
    "        self.a = nn.Sigmoid()\n",
    "    \n",
    "    def forward(self,x):\n",
    "        inputs = torch.unsqueeze(x, dim=1)\n",
    "        z1 = self.conv(inputs)\n",
    "        z2 = self.flatten(z1)\n",
    "        z3 = self.fc(z2)\n",
    "        outputs = self.a(z3)\n",
    "        return outputs\n",
    "    \n",
    "# class flatten(nn.Module):\n",
    "#     def forward(self, input):\n",
    "#         return torch.unsqueeze(input,dim=1)\n",
    "# cnn =   nn.Sequential(  flatten(),\n",
    "#                         nn.Conv1d(1, 8, 3, 1),\n",
    "#                         nn.ReLU(),\n",
    "#                         nn.Conv1d(8, 4, 3,  1),\n",
    "#                         nn.ReLU(),\n",
    "#                         Flatten(),\n",
    "#                         nn.Linear(4*(num_of_feature-4), 3),\n",
    "#                         nn.Sigmoid(),)\n",
    "cnn_model = cnn().to(device)"
   ]
  },
  {
   "cell_type": "markdown",
   "metadata": {},
   "source": [
    "# 训练模型"
   ]
  },
  {
   "cell_type": "code",
   "execution_count": 17,
   "metadata": {},
   "outputs": [],
   "source": [
    "def evaluate(pred, labels, acc_th=THRESHOLD):\n",
    "    result = pred > acc_th\n",
    "    result = result.float()\n",
    "    batch_result = torch.sum(result)\n",
    "    true_positve_num = torch.sum(result * labels)\n",
    "    if batch_result== 0:\n",
    "        return 0\n",
    "    precision = true_positve_num / batch_result\n",
    "    recall = true_positve_num / torch.sum(labels)\n",
    "    f1_score = 2 * precision * recall / (precision + recall)\n",
    "#     accuracy = torch.sum(result==labels) / len(labels) / 3\n",
    "#     return accuracy.item()\n",
    "    return f1_score.item()"
   ]
  },
  {
   "cell_type": "code",
   "execution_count": 18,
   "metadata": {},
   "outputs": [],
   "source": [
    "def run_model(model, xiter, criterion, optimizer, is_train=False):\n",
    "    acc, total_loss = 0, 0\n",
    "    num_batch , n = 0, 0\n",
    "    for xb, yb in xiter:\n",
    "        inputs = xb.to(device).type(torch.float32)\n",
    "        labels = yb.to(device).type(torch.float32)\n",
    "        outputs = model(inputs)\n",
    "        loss = criterion(outputs, labels)\n",
    "        if is_train:\n",
    "            optimizer.zero_grad()\n",
    "            loss.backward()\n",
    "            optimizer.step()\n",
    "        acc += evaluate(outputs, labels)\n",
    "        total_loss += loss.item()\n",
    "        num_batch += 1\n",
    "        n += len(yb)\n",
    "    return acc/num_batch, total_loss/n"
   ]
  },
  {
   "cell_type": "code",
   "execution_count": 19,
   "metadata": {},
   "outputs": [],
   "source": [
    "losses, accs = [], []\n",
    "val_losses, val_accs = [], []\n",
    "def training(epochs, model, train_iter, valid_iter, criterion, optimizer, flag=True):\n",
    "    for epoch in range(epochs):\n",
    "        epoch_loss, epoch_acc = 0, 0\n",
    "        val_epoch_loss, val_epoch_acc = 0, 0\n",
    "        model.train()\n",
    "        epoch_acc, epoch_loss = run_model(model, train_iter, criterion, optimizer, True)\n",
    "        losses.append(epoch_loss)\n",
    "        accs.append(epoch_acc)\n",
    "        if flag:\n",
    "            print(\"[{}/{}] \\ntraining loss:\\t {:.4f}   training f1_score:   {:.2f}%\".format(epoch+1, epochs, epoch_loss, epoch_acc*100))\n",
    "\n",
    "        if valid_iter:\n",
    "            with torch.no_grad():\n",
    "                model.eval()\n",
    "                val_epoch_acc, val_epoch_loss = run_model(model, valid_iter, criterion, optimizer)\n",
    "            val_losses.append(val_epoch_loss)\n",
    "            val_accs.append(val_epoch_acc)\n",
    "            if flag:\n",
    "                print(\"validation loss: {:.4f}   validation f1_score: {:.2f}%\".format(val_epoch_loss,val_epoch_acc*100))"
   ]
  },
  {
   "cell_type": "markdown",
   "metadata": {},
   "source": [
    "## 训练"
   ]
  },
  {
   "cell_type": "markdown",
   "metadata": {},
   "source": [
    "### ANN"
   ]
  },
  {
   "cell_type": "code",
   "execution_count": 20,
   "metadata": {},
   "outputs": [],
   "source": [
    "optimizer = torch.optim.Adam(ann_model.parameters(), lr=LR)\n",
    "criterion = nn.BCELoss()"
   ]
  },
  {
   "cell_type": "code",
   "execution_count": 21,
   "metadata": {
    "scrolled": true
   },
   "outputs": [
    {
     "name": "stdout",
     "output_type": "stream",
     "text": [
      "[1/50] \n",
      "training loss:\t 0.6816   training f1_score:   nan%\n",
      "validation loss: 0.6780   validation f1_score: nan%\n",
      "[2/50] \n",
      "training loss:\t 0.6571   training f1_score:   nan%\n",
      "validation loss: 0.6680   validation f1_score: nan%\n",
      "[3/50] \n",
      "training loss:\t 0.6460   training f1_score:   nan%\n",
      "validation loss: 0.6624   validation f1_score: 0.00%\n",
      "[4/50] \n",
      "training loss:\t 0.6410   training f1_score:   nan%\n",
      "validation loss: 0.6584   validation f1_score: 0.00%\n",
      "[5/50] \n",
      "training loss:\t 0.6386   training f1_score:   nan%\n",
      "validation loss: 0.6563   validation f1_score: 0.00%\n",
      "[6/50] \n",
      "training loss:\t 0.6375   training f1_score:   nan%\n",
      "validation loss: 0.6548   validation f1_score: 0.00%\n",
      "[7/50] \n",
      "training loss:\t 0.6371   training f1_score:   nan%\n",
      "validation loss: 0.6537   validation f1_score: 0.00%\n",
      "[8/50] \n",
      "training loss:\t 0.6369   training f1_score:   nan%\n",
      "validation loss: 0.6532   validation f1_score: 0.00%\n",
      "[9/50] \n",
      "training loss:\t 0.6368   training f1_score:   nan%\n",
      "validation loss: 0.6529   validation f1_score: 0.00%\n",
      "[10/50] \n",
      "training loss:\t 0.6367   training f1_score:   0.00%\n",
      "validation loss: 0.6525   validation f1_score: 0.00%\n",
      "[11/50] \n",
      "training loss:\t 0.6368   training f1_score:   nan%\n",
      "validation loss: 0.6525   validation f1_score: 0.00%\n",
      "[12/50] \n",
      "training loss:\t 0.6366   training f1_score:   nan%\n",
      "validation loss: 0.6525   validation f1_score: 0.00%\n",
      "[13/50] \n",
      "training loss:\t 0.6366   training f1_score:   0.00%\n",
      "validation loss: 0.6526   validation f1_score: 0.00%\n",
      "[14/50] \n",
      "training loss:\t 0.6366   training f1_score:   0.00%\n",
      "validation loss: 0.6521   validation f1_score: 0.00%\n",
      "[15/50] \n",
      "training loss:\t 0.6366   training f1_score:   nan%\n",
      "validation loss: 0.6522   validation f1_score: 0.00%\n",
      "[16/50] \n",
      "training loss:\t 0.6367   training f1_score:   nan%\n",
      "validation loss: 0.6522   validation f1_score: 0.00%\n",
      "[17/50] \n",
      "training loss:\t 0.6367   training f1_score:   nan%\n",
      "validation loss: 0.6520   validation f1_score: 0.00%\n",
      "[18/50] \n",
      "training loss:\t 0.6368   training f1_score:   nan%\n",
      "validation loss: 0.6522   validation f1_score: 0.00%\n",
      "[19/50] \n",
      "training loss:\t 0.6366   training f1_score:   nan%\n",
      "validation loss: 0.6522   validation f1_score: 0.00%\n",
      "[20/50] \n",
      "training loss:\t 0.6367   training f1_score:   0.00%\n",
      "validation loss: 0.6517   validation f1_score: 0.00%\n",
      "[21/50] \n",
      "training loss:\t 0.6367   training f1_score:   nan%\n",
      "validation loss: 0.6519   validation f1_score: 0.00%\n",
      "[22/50] \n",
      "training loss:\t 0.6366   training f1_score:   nan%\n",
      "validation loss: 0.6521   validation f1_score: 0.00%\n",
      "[23/50] \n",
      "training loss:\t 0.6366   training f1_score:   0.00%\n",
      "validation loss: 0.6518   validation f1_score: 0.00%\n",
      "[24/50] \n",
      "training loss:\t 0.6367   training f1_score:   nan%\n",
      "validation loss: 0.6520   validation f1_score: 0.00%\n",
      "[25/50] \n",
      "training loss:\t 0.6367   training f1_score:   nan%\n",
      "validation loss: 0.6520   validation f1_score: 0.00%\n",
      "[26/50] \n",
      "training loss:\t 0.6367   training f1_score:   0.00%\n",
      "validation loss: 0.6520   validation f1_score: 0.00%\n",
      "[27/50] \n",
      "training loss:\t 0.6365   training f1_score:   nan%\n",
      "validation loss: 0.6520   validation f1_score: 0.00%\n",
      "[28/50] \n",
      "training loss:\t 0.6366   training f1_score:   0.00%\n",
      "validation loss: 0.6519   validation f1_score: 0.00%\n",
      "[29/50] \n",
      "training loss:\t 0.6367   training f1_score:   nan%\n",
      "validation loss: 0.6521   validation f1_score: 0.00%\n",
      "[30/50] \n",
      "training loss:\t 0.6367   training f1_score:   0.00%\n",
      "validation loss: 0.6520   validation f1_score: 0.00%\n",
      "[31/50] \n",
      "training loss:\t 0.6367   training f1_score:   nan%\n",
      "validation loss: 0.6521   validation f1_score: 0.00%\n",
      "[32/50] \n",
      "training loss:\t 0.6367   training f1_score:   nan%\n",
      "validation loss: 0.6517   validation f1_score: 0.00%\n",
      "[33/50] \n",
      "training loss:\t 0.6366   training f1_score:   0.00%\n",
      "validation loss: 0.6517   validation f1_score: 0.00%\n",
      "[34/50] \n",
      "training loss:\t 0.6366   training f1_score:   nan%\n",
      "validation loss: 0.6516   validation f1_score: 0.00%\n",
      "[35/50] \n",
      "training loss:\t 0.6367   training f1_score:   0.00%\n",
      "validation loss: 0.6517   validation f1_score: 0.00%\n",
      "[36/50] \n",
      "training loss:\t 0.6366   training f1_score:   nan%\n",
      "validation loss: 0.6518   validation f1_score: 0.00%\n",
      "[37/50] \n",
      "training loss:\t 0.6366   training f1_score:   nan%\n",
      "validation loss: 0.6518   validation f1_score: 0.00%\n",
      "[38/50] \n",
      "training loss:\t 0.6366   training f1_score:   nan%\n",
      "validation loss: 0.6519   validation f1_score: 0.00%\n",
      "[39/50] \n",
      "training loss:\t 0.6366   training f1_score:   nan%\n",
      "validation loss: 0.6519   validation f1_score: 0.00%\n",
      "[40/50] \n",
      "training loss:\t 0.6366   training f1_score:   nan%\n",
      "validation loss: 0.6518   validation f1_score: 0.00%\n",
      "[41/50] \n",
      "training loss:\t 0.6366   training f1_score:   nan%\n",
      "validation loss: 0.6519   validation f1_score: 0.00%\n",
      "[42/50] \n",
      "training loss:\t 0.6367   training f1_score:   nan%\n",
      "validation loss: 0.6522   validation f1_score: 0.00%\n",
      "[43/50] \n",
      "training loss:\t 0.6366   training f1_score:   0.00%\n",
      "validation loss: 0.6520   validation f1_score: 0.00%\n",
      "[44/50] \n",
      "training loss:\t 0.6367   training f1_score:   nan%\n",
      "validation loss: 0.6516   validation f1_score: 0.00%\n",
      "[45/50] \n",
      "training loss:\t 0.6365   training f1_score:   nan%\n",
      "validation loss: 0.6519   validation f1_score: 0.00%\n",
      "[46/50] \n",
      "training loss:\t 0.6366   training f1_score:   nan%\n",
      "validation loss: 0.6518   validation f1_score: 0.00%\n",
      "[47/50] \n",
      "training loss:\t 0.6367   training f1_score:   nan%\n",
      "validation loss: 0.6518   validation f1_score: 0.00%\n",
      "[48/50] \n",
      "training loss:\t 0.6367   training f1_score:   0.00%\n",
      "validation loss: 0.6520   validation f1_score: 0.00%\n",
      "[49/50] \n",
      "training loss:\t 0.6366   training f1_score:   nan%\n",
      "validation loss: 0.6520   validation f1_score: 0.00%\n",
      "[50/50] \n",
      "training loss:\t 0.6366   training f1_score:   nan%\n",
      "validation loss: 0.6521   validation f1_score: 0.00%\n",
      "Wall time: 1min 28s\n"
     ]
    }
   ],
   "source": [
    "%%time\n",
    "training(EPOCHS, ann_model, train_loader, val_loader, criterion, optimizer)"
   ]
  },
  {
   "cell_type": "code",
   "execution_count": 22,
   "metadata": {
    "scrolled": false
   },
   "outputs": [
    {
     "data": {
      "image/png": "[encoded data removed]",
      "text/plain": [
       "<Figure size 432x288 with 1 Axes>"
      ]
     },
     "metadata": {
      "needs_background": "light"
     },
     "output_type": "display_data"
    },
    {
     "data": {
      "image/png": "[encoded data removed]",
      "text/plain": [
       "<Figure size 432x288 with 1 Axes>"
      ]
     },
     "metadata": {
      "needs_background": "light"
     },
     "output_type": "display_data"
    }
   ],
   "source": [
    "plt.plot(losses,label='training loss')\n",
    "plt.plot(val_losses,label=\"validation loss\")\n",
    "plt.legend() \n",
    "plt.show()\n",
    "plt.plot(accs,label=\"training f1_score\")\n",
    "plt.plot(val_accs,label=\"validation f1_score\")\n",
    "plt.legend()\n",
    "plt.show()"
   ]
  },
  {
   "cell_type": "markdown",
   "metadata": {},
   "source": [
    "### CNN"
   ]
  },
  {
   "cell_type": "code",
   "execution_count": 23,
   "metadata": {},
   "outputs": [
    {
     "name": "stdout",
     "output_type": "stream",
     "text": [
      "[1/50] \n",
      "training loss:\t 43.3975   training f1_score:   nan%\n",
      "validation loss: 0.7156   validation f1_score: nan%\n",
      "[2/50] \n",
      "training loss:\t 42.3079   training f1_score:   nan%\n",
      "validation loss: 0.7160   validation f1_score: nan%\n",
      "[3/50] \n",
      "training loss:\t 40.5929   training f1_score:   nan%\n",
      "validation loss: 0.7148   validation f1_score: nan%\n",
      "[4/50] \n",
      "training loss:\t 43.4836   training f1_score:   nan%\n",
      "validation loss: 0.7139   validation f1_score: nan%\n",
      "[5/50] \n",
      "training loss:\t 40.5820   training f1_score:   nan%\n",
      "validation loss: 0.7107   validation f1_score: nan%\n",
      "[6/50] \n",
      "training loss:\t 40.3066   training f1_score:   nan%\n",
      "validation loss: 0.7096   validation f1_score: nan%\n",
      "[7/50] \n",
      "training loss:\t 43.3547   training f1_score:   nan%\n",
      "validation loss: 0.7087   validation f1_score: nan%\n",
      "[8/50] \n",
      "training loss:\t 40.2964   training f1_score:   nan%\n",
      "validation loss: 0.7061   validation f1_score: nan%\n",
      "[9/50] \n",
      "training loss:\t 40.8062   training f1_score:   nan%\n",
      "validation loss: 0.7052   validation f1_score: nan%\n",
      "[10/50] \n",
      "training loss:\t 40.9509   training f1_score:   nan%\n",
      "validation loss: 0.7045   validation f1_score: nan%\n",
      "[11/50] \n",
      "training loss:\t 40.1769   training f1_score:   nan%\n",
      "validation loss: 0.7032   validation f1_score: nan%\n",
      "[12/50] \n",
      "training loss:\t 39.9954   training f1_score:   nan%\n",
      "validation loss: 0.7029   validation f1_score: nan%\n",
      "[13/50] \n",
      "training loss:\t 41.4367   training f1_score:   nan%\n",
      "validation loss: 0.7021   validation f1_score: nan%\n",
      "[14/50] \n",
      "training loss:\t 42.6822   training f1_score:   nan%\n",
      "validation loss: 0.7005   validation f1_score: nan%\n",
      "[15/50] \n",
      "training loss:\t 41.8438   training f1_score:   nan%\n",
      "validation loss: 0.6995   validation f1_score: nan%\n",
      "[16/50] \n",
      "training loss:\t 40.9018   training f1_score:   nan%\n",
      "validation loss: 0.6987   validation f1_score: nan%\n",
      "[17/50] \n",
      "training loss:\t 39.5118   training f1_score:   nan%\n",
      "validation loss: 0.6987   validation f1_score: nan%\n",
      "[18/50] \n",
      "training loss:\t 40.4241   training f1_score:   nan%\n",
      "validation loss: 0.6978   validation f1_score: nan%\n",
      "[19/50] \n",
      "training loss:\t 41.9882   training f1_score:   nan%\n",
      "validation loss: 0.6980   validation f1_score: nan%\n",
      "[20/50] \n",
      "training loss:\t 39.6735   training f1_score:   nan%\n",
      "validation loss: 0.6975   validation f1_score: nan%\n",
      "[21/50] \n",
      "training loss:\t 41.8968   training f1_score:   nan%\n",
      "validation loss: 0.6967   validation f1_score: nan%\n",
      "[22/50] \n",
      "training loss:\t 41.7997   training f1_score:   nan%\n",
      "validation loss: 0.6961   validation f1_score: nan%\n",
      "[23/50] \n",
      "training loss:\t 41.8193   training f1_score:   nan%\n",
      "validation loss: 0.6959   validation f1_score: nan%\n",
      "[24/50] \n",
      "training loss:\t 41.8108   training f1_score:   nan%\n",
      "validation loss: 0.6950   validation f1_score: nan%\n",
      "[25/50] \n",
      "training loss:\t 39.7035   training f1_score:   nan%\n",
      "validation loss: 0.6937   validation f1_score: nan%\n",
      "[26/50] \n",
      "training loss:\t 41.0008   training f1_score:   nan%\n",
      "validation loss: 0.6933   validation f1_score: nan%\n",
      "[27/50] \n",
      "training loss:\t 40.8268   training f1_score:   nan%\n",
      "validation loss: 0.6919   validation f1_score: nan%\n",
      "[28/50] \n",
      "training loss:\t 39.4706   training f1_score:   nan%\n",
      "validation loss: 0.6905   validation f1_score: nan%\n",
      "[29/50] \n",
      "training loss:\t 41.0089   training f1_score:   nan%\n",
      "validation loss: 0.6898   validation f1_score: nan%\n",
      "[30/50] \n",
      "training loss:\t 40.2504   training f1_score:   nan%\n",
      "validation loss: 0.6894   validation f1_score: nan%\n",
      "[31/50] \n",
      "training loss:\t 39.0090   training f1_score:   nan%\n",
      "validation loss: 0.6887   validation f1_score: nan%\n",
      "[32/50] \n",
      "training loss:\t 41.0775   training f1_score:   nan%\n",
      "validation loss: 0.6885   validation f1_score: nan%\n",
      "[33/50] \n",
      "training loss:\t 41.7700   training f1_score:   nan%\n",
      "validation loss: 0.6882   validation f1_score: nan%\n",
      "[34/50] \n",
      "training loss:\t 40.6421   training f1_score:   nan%\n",
      "validation loss: 0.6873   validation f1_score: nan%\n",
      "[35/50] \n",
      "training loss:\t 40.3329   training f1_score:   nan%\n",
      "validation loss: 0.6878   validation f1_score: nan%\n",
      "[36/50] \n",
      "training loss:\t 38.6303   training f1_score:   nan%\n",
      "validation loss: 0.6877   validation f1_score: nan%\n",
      "[37/50] \n",
      "training loss:\t 39.4923   training f1_score:   nan%\n",
      "validation loss: 0.6865   validation f1_score: nan%\n",
      "[38/50] \n",
      "training loss:\t 38.5072   training f1_score:   nan%\n",
      "validation loss: 0.6855   validation f1_score: nan%\n",
      "[39/50] \n",
      "training loss:\t 40.2894   training f1_score:   nan%\n",
      "validation loss: 0.6859   validation f1_score: nan%\n",
      "[40/50] \n",
      "training loss:\t 39.1795   training f1_score:   nan%\n",
      "validation loss: 0.6860   validation f1_score: nan%\n",
      "[41/50] \n",
      "training loss:\t 39.8469   training f1_score:   nan%\n",
      "validation loss: 0.6863   validation f1_score: nan%\n",
      "[42/50] \n",
      "training loss:\t 40.5150   training f1_score:   nan%\n",
      "validation loss: 0.6855   validation f1_score: nan%\n",
      "[43/50] \n",
      "training loss:\t 40.6102   training f1_score:   nan%\n",
      "validation loss: 0.6848   validation f1_score: nan%\n",
      "[44/50] \n",
      "training loss:\t 40.1798   training f1_score:   nan%\n",
      "validation loss: 0.6846   validation f1_score: nan%\n",
      "[45/50] \n",
      "training loss:\t 42.4000   training f1_score:   nan%\n",
      "validation loss: 0.6838   validation f1_score: nan%\n",
      "[46/50] \n",
      "training loss:\t 39.2331   training f1_score:   nan%\n",
      "validation loss: 0.6833   validation f1_score: nan%\n",
      "[47/50] \n",
      "training loss:\t 40.5842   training f1_score:   nan%\n",
      "validation loss: 0.6831   validation f1_score: nan%\n",
      "[48/50] \n",
      "training loss:\t 40.1417   training f1_score:   nan%\n",
      "validation loss: 0.6828   validation f1_score: nan%\n",
      "[49/50] \n",
      "training loss:\t 40.6459   training f1_score:   nan%\n",
      "validation loss: 0.6830   validation f1_score: nan%\n",
      "[50/50] \n",
      "training loss:\t 42.0745   training f1_score:   nan%\n",
      "validation loss: 0.6823   validation f1_score: nan%\n",
      "Wall time: 2min 42s\n"
     ]
    }
   ],
   "source": [
    "%%time\n",
    "optimizer = torch.optim.Adam(cnn_model.parameters(), lr=LR)\n",
    "losses, accs = [], []\n",
    "val_losses, val_accs = [], []\n",
    "training(EPOCHS, cnn_model, train_loader, val_loader, criterion, optimizer)"
   ]
  },
  {
   "cell_type": "code",
   "execution_count": 24,
   "metadata": {
    "scrolled": true
   },
   "outputs": [],
   "source": [
    "# %%time\n",
    "# for hid in range(20,60,1):\n",
    "#     ann_model = get_ann(hid).to(device)\n",
    "#     training(EPOCHS, ann_model, train_loader, val_loader, criterion, optimizer,False)\n",
    "#     acc, _ = run_model(ann_model, test_loader, criterion, optimizer)\n",
    "#     print(hid)\n",
    "#     print(\"the Model test score: \",acc)"
   ]
  },
  {
   "cell_type": "code",
   "execution_count": 25,
   "metadata": {
    "scrolled": false
   },
   "outputs": [
    {
     "data": {
      "image/png": "[encoded data removed]",
      "text/plain": [
       "<Figure size 432x288 with 1 Axes>"
      ]
     },
     "metadata": {
      "needs_background": "light"
     },
     "output_type": "display_data"
    },
    {
     "data": {
      "image/png": "[encoded data removed]",
      "text/plain": [
       "<Figure size 432x288 with 1 Axes>"
      ]
     },
     "metadata": {
      "needs_background": "light"
     },
     "output_type": "display_data"
    }
   ],
   "source": [
    "plt.plot(losses,label='training loss')\n",
    "plt.plot(val_losses,label=\"validation loss\")\n",
    "plt.legend() \n",
    "plt.show()\n",
    "plt.plot(accs,label=\"training f1_score\")\n",
    "plt.plot(val_accs,label=\"validation f1_score\")\n",
    "plt.legend()\n",
    "plt.show()"
   ]
  },
  {
   "cell_type": "markdown",
   "metadata": {},
   "source": [
    "### Decision Tree"
   ]
  },
  {
   "cell_type": "code",
   "execution_count": 26,
   "metadata": {
    "scrolled": true
   },
   "outputs": [
    {
     "name": "stdout",
     "output_type": "stream",
     "text": [
      "Decision tree val f1_score: 0.52\n",
      "Decision tree test f1_score: 0.33\n"
     ]
    }
   ],
   "source": [
    "from sklearn import metrics\n",
    "from sklearn.tree import DecisionTreeClassifier\n",
    "clf = DecisionTreeClassifier()\n",
    "clf.fit(x_train,y_train)\n",
    "val_pred = clf.predict(x_val)\n",
    "val_score = metrics.f1_score(y_val, val_pred, average=\"micro\")\n",
    "print(\"Decision tree val f1_score: %.2f\"%val_score)\n",
    "test_pred = clf.predict(x_test)\n",
    "predict_score = metrics.f1_score(y_test, test_pred, average=\"macro\")\n",
    "print(\"Decision tree test f1_score: %.2f\"%predict_score)"
   ]
  },
  {
   "cell_type": "markdown",
   "metadata": {},
   "source": [
    "### MLP多层感知机"
   ]
  },
  {
   "cell_type": "code",
   "execution_count": 27,
   "metadata": {},
   "outputs": [
    {
     "name": "stdout",
     "output_type": "stream",
     "text": [
      "MLP validation f1_score: 0.46\n",
      "MLP test f1_score: 0.42\n"
     ]
    }
   ],
   "source": [
    "from sklearn.neural_network import MLPClassifier\n",
    "MLPc = MLPClassifier(random_state=1, max_iter=300).fit(x_train, y_train)\n",
    "val_pred = MLPc.predict(x_val)\n",
    "val_score =  metrics.f1_score(y_val, val_pred, average=\"micro\")\n",
    "print(\"MLP validation f1_score: %.2f\"%val_score)\n",
    "test_pred = MLPc.predict(x_test)\n",
    "predict_score = metrics.f1_score(y_test, test_pred, average=\"macro\")\n",
    "print(\"MLP test f1_score: %.2f\"%predict_score)"
   ]
  },
  {
   "cell_type": "markdown",
   "metadata": {},
   "source": [
    "### 分类器链"
   ]
  },
  {
   "cell_type": "code",
   "execution_count": 28,
   "metadata": {},
   "outputs": [
    {
     "name": "stdout",
     "output_type": "stream",
     "text": [
      "classifier chain validation f1_score: 0.42\n",
      "classifier chain test f1_score: 0.50\n"
     ]
    }
   ],
   "source": [
    "from skmultilearn.problem_transform import ClassifierChain\n",
    "classifier = ClassifierChain(DecisionTreeClassifier())\n",
    "classifier.fit(x_train, y_train)\n",
    "val_pred = classifier.predict(x_val)\n",
    "val_score = metrics.f1_score(val_pred, y_val, average=\"macro\")\n",
    "print(\"classifier chain validation f1_score: %.2f\"%val_score)\n",
    "test_pred = classifier.predict(x_test)\n",
    "predict_score = metrics.f1_score(y_test, test_pred, average=\"macro\")\n",
    "print(\"classifier chain test f1_score: %.2f\"%predict_score)"
   ]
  },
  {
   "cell_type": "code",
   "execution_count": 29,
   "metadata": {},
   "outputs": [],
   "source": [
    "# from sklearn.svm import SVC\n",
    "# from sklearn.multiclass import OneVsRestClassifier\n",
    "# clc = OneVsRestClassifier(SVC(kernel='linear'))\n",
    "# clc.fit(x_train, y_train)\n",
    "# val_pred = clf.predict(x_val)\n",
    "# val_score = metrics.f1_score(y_val, val_pred, average=\"micro\")\n",
    "# print(\"SVM val f1_score: %.2f\"%val_score)\n",
    "# test_pred = clf.predict(x_test)\n",
    "# predict_score = metrics.f1_score(y_test, test_pred, average=\"macro\")\n",
    "# print(\"SVM test f1_score: %.2f\"%predict_score)"
   ]
  },
  {
   "cell_type": "markdown",
   "metadata": {},
   "source": [
    "## 使用test最后来评估模型"
   ]
  },
  {
   "cell_type": "code",
   "execution_count": 30,
   "metadata": {},
   "outputs": [
    {
     "data": {
      "text/plain": [
       "array([[0., 1., 0.],\n",
       "       [0., 1., 0.],\n",
       "       [0., 1., 0.],\n",
       "       [0., 1., 0.],\n",
       "       [0., 1., 0.],\n",
       "       [0., 1., 0.],\n",
       "       [0., 1., 0.]])"
      ]
     },
     "execution_count": 30,
     "metadata": {},
     "output_type": "execute_result"
    }
   ],
   "source": [
    "clf.predict(data_pred)"
   ]
  },
  {
   "cell_type": "code",
   "execution_count": 31,
   "metadata": {},
   "outputs": [
    {
     "data": {
      "text/plain": [
       "array([[1, 1, 1],\n",
       "       [1, 1, 1],\n",
       "       [1, 1, 1],\n",
       "       [1, 1, 1],\n",
       "       [1, 1, 1],\n",
       "       [1, 1, 1],\n",
       "       [1, 1, 1]])"
      ]
     },
     "execution_count": 31,
     "metadata": {},
     "output_type": "execute_result"
    }
   ],
   "source": [
    "MLPc.predict(data_pred)"
   ]
  },
  {
   "cell_type": "code",
   "execution_count": 32,
   "metadata": {},
   "outputs": [
    {
     "name": "stdout",
     "output_type": "stream",
     "text": [
      "ann test f1_score:\t0.000000 \n",
      "ann prediction:\n",
      " [[0. 0. 0.]\n",
      " [0. 0. 0.]\n",
      " [0. 0. 0.]\n",
      " [0. 0. 0.]\n",
      " [0. 0. 0.]\n",
      " [0. 0. 0.]\n",
      " [0. 0. 0.]]\n",
      "cnn test f1_score:\tnan \n",
      "cnn prediction:\n",
      " [[0. 0. 0.]\n",
      " [0. 0. 0.]\n",
      " [0. 0. 0.]\n",
      " [0. 0. 0.]\n",
      " [0. 0. 0.]\n",
      " [0. 0. 0.]\n",
      " [0. 0. 1.]]\n"
     ]
    }
   ],
   "source": [
    "pred_x = torch.tensor(data_pred).to(device)\n",
    "pred_x = pred_x.type(torch.float32)\n",
    "for model in [ann_model,cnn_model]:\n",
    "    if model == ann_model:\n",
    "        name ='ann'\n",
    "    else:\n",
    "        name ='cnn'\n",
    "    acc, _ = run_model(model, test_loader, criterion, optimizer)\n",
    "    print(\"{} test f1_score:\\t{:2f} \".format(name, acc))\n",
    "    prediction = model(pred_x)\n",
    "    result = (prediction > THRESHOLD).float()\n",
    "    result = result.cpu().detach().numpy()\n",
    "    print(\"{} prediction:\\n {}\".format(name, result))"
   ]
  },
  {
   "cell_type": "markdown",
   "metadata": {},
   "source": [
    "# 提取参数"
   ]
  },
  {
   "cell_type": "code",
   "execution_count": 33,
   "metadata": {},
   "outputs": [],
   "source": [
    "parameters = list(ann_model.parameters())\n",
    "Sensitivity = parameters[2].mm(parameters[0]).cpu().data.numpy()"
   ]
  },
  {
   "cell_type": "code",
   "execution_count": 34,
   "metadata": {},
   "outputs": [],
   "source": [
    "s = np.sum(Sensitivity.T,axis=1) / 3"
   ]
  },
  {
   "cell_type": "code",
   "execution_count": 35,
   "metadata": {},
   "outputs": [],
   "source": [
    "from sklearn.preprocessing import MaxAbsScaler\n",
    "scaler = MaxAbsScaler()\n",
    "normal_s = scaler.fit_transform(s.reshape(-1, 1))\n",
    "sensitivity = np.squeeze(normal_s).tolist()"
   ]
  },
  {
   "cell_type": "code",
   "execution_count": 36,
   "metadata": {},
   "outputs": [
    {
     "data": {
      "image/png": "[encoded data removed]",
      "text/plain": [
       "<Figure size 510x340 with 2 Axes>"
      ]
     },
     "metadata": {
      "needs_background": "light"
     },
     "output_type": "display_data"
    }
   ],
   "source": [
    "plt.rcParams['savefig.dpi'] = 100 #图片像素\n",
    "plt.rcParams['figure.dpi'] = 85 #分辨率\n",
    "norm = plt.Normalize(-1,1)\n",
    "norm_values = norm(sensitivity)\n",
    "map_vir = cm.get_cmap(name='jet')\n",
    "colors = map_vir(norm_values)\n",
    "sm = cm.ScalarMappable(cmap=map_vir,norm=norm)  # norm设置最大最小值\n",
    "plt.figure()\n",
    "plt.colorbar(sm)\n",
    "plt.barh(featrues_name13, sensitivity, color=colors)\n",
    "plt.show()"
   ]
  },
  {
   "cell_type": "markdown",
   "metadata": {},
   "source": [
    "目前有几个问题需要解决：\n",
    "0. <font size=5>用这种方法参数完全随机？？没有任何规律可言?</font>\n",
    "1. 关于机器学习普通算法实现多标签分类，同时处理多个类，考虑他们的相关性\n",
    "2. 关于多标签分类任务的评估指标<br>\n",
    "<b>关于准确率也就是评价指标需要再思考一下，<font color=red>因为多标签分类里面负样本远多于正样本</font>，<font color=blue>另外一点就是，如何定义\"准确\"？只有当一个样本的正样本与负样本全部都与对应标签是一样的，才能算是\"准确\"。</font>所以不能用传统的方法表示，有人说用`f1_score`,在一定程度上还是能反映出模型结构的问题。但是太低了</b>\n",
    "3. 优化代码，实现一次性训练3个模型，从而后续数据可视化进行更好的对比。例如第一行为3个模型的损失函数对比，第二行就是准确率。最后来一个图将3个模型的质量对比？有个问题如果是sklearn不可能和torch连用，需要单独处理<br>\n",
    "<b>结论：无法实现，因为<font color=red>cnn出问题了</font>，然后就是svm与dnn不一样，不需要迭代，所以就不存在什么loss曲线。</b>\n",
    "4. 1D卷积是需要3维的输入，而我们的ANN是二维，但是我又想把代码进行相对的统一，就很烦<br>\n",
    "<b>最后的解决方案是：再forward中进行unsquezze</b>\n",
    "5. 准确率(accuracy) = 预测对的/所有 = (TP+TN)/(TP+FN+FP+TN)<br>\n",
    "精确率(precision) = TP/(TP+FP)<br>\n",
    "召回率(recall) = TP/(TP+FN) <br>\n",
    "6. <b><font color=red>cnn出问题了</font></b>。后期出现了一个问题就是无论如何，如果使用cnn模型，结果trian和valid的loss函数不变，\n",
    "通过ann可以确定是过拟合了。数据集还是太少了。。\n",
    "7. 如果输出层不加sigmoid会报错 CUDA error: CUBLAS_STATUS_ALLOC_FAILED when calling \\`cublasCreate(handle)\\`\n",
    "8. 改变threshold为0.4，valid acc大于train并且valid是凹型，train是正常那种，loss方面train正常，而valid有些震动\n",
    "怎么说呢，就是loss很正常，但是最后的评价指标很不好，使用f1_score连结果都跑不出来。"
   ]
  },
  {
   "cell_type": "markdown",
   "metadata": {},
   "source": [
    "# 保存模型及参数"
   ]
  },
  {
   "cell_type": "code",
   "execution_count": 37,
   "metadata": {},
   "outputs": [],
   "source": [
    "# torch.save(ann_model, r\".\\model\\ann_model.pkl\")\n",
    "# torch.save(cnn_model, r\".\\model\\cnn_model.pkl\") "
   ]
  },
  {
   "cell_type": "code",
   "execution_count": null,
   "metadata": {},
   "outputs": [],
   "source": []
  }
 ],
 "metadata": {
  "kernelspec": {
   "display_name": "Python 3",
   "language": "python",
   "name": "python3"
  },
  "language_info": {
   "codemirror_mode": {
    "name": "ipython",
    "version": 3
   },
   "file_extension": ".py",
   "mimetype": "text/x-python",
   "name": "python",
   "nbconvert_exporter": "python",
   "pygments_lexer": "ipython3",
   "version": "3.8.3"
  },
  "toc": {
   "base_numbering": 1,
   "nav_menu": {},
   "number_sections": true,
   "sideBar": true,
   "skip_h1_title": false,
   "title_cell": "Table of Contents",
   "title_sidebar": "Contents",
   "toc_cell": false,
   "toc_position": {
    "height": "calc(100% - 180px)",
    "left": "10px",
    "top": "150px",
    "width": "248.188px"
   },
   "toc_section_display": true,
   "toc_window_display": true
  }
 },
 "nbformat": 4,
 "nbformat_minor": 4
}
